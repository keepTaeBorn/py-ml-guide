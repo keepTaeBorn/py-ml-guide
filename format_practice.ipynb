{
 "cells": [
  {
   "cell_type": "code",
   "execution_count": 2,
   "id": "355142f8",
   "metadata": {},
   "outputs": [],
   "source": [
    "import numpy as np\n",
    "array1 = np.array([1,2,3])\n",
    "array2 = np.array([[1,2,3],[2,3,4]])\n",
    "array3 = np.array([[1,2,3]])"
   ]
  },
  {
   "cell_type": "code",
   "execution_count": 3,
   "id": "40b00acf",
   "metadata": {},
   "outputs": [
    {
     "name": "stdout",
     "output_type": "stream",
     "text": [
      "array1: 1차원, array2: 2차원, array3: 2차원\n"
     ]
    }
   ],
   "source": [
    "#1\n",
    "print('array1: {0}차원, array2: {1}차원, array3: {2}차원'.format(array1.ndim,array2.ndim,array3.ndim))"
   ]
  },
  {
   "cell_type": "code",
   "execution_count": 4,
   "id": "0e256af6",
   "metadata": {},
   "outputs": [
    {
     "name": "stdout",
     "output_type": "stream",
     "text": [
      "array1: 1차원, array2: 2차원, array3:  2차원\n"
     ]
    }
   ],
   "source": [
    "#2\n",
    "print('array1: {:0}차원, array2: {:1}차원, array3: {:2}차원'.format(array1.ndim,array2.ndim,array3.ndim))"
   ]
  },
  {
   "cell_type": "code",
   "execution_count": 6,
   "id": "ba769c4e",
   "metadata": {},
   "outputs": [
    {
     "ename": "ValueError",
     "evalue": "cannot switch from manual field specification to automatic field numbering",
     "output_type": "error",
     "traceback": [
      "\u001b[0;31m---------------------------------------------------------------------------\u001b[0m",
      "\u001b[0;31mValueError\u001b[0m                                Traceback (most recent call last)",
      "\u001b[0;32m/var/folders/h8/g8tvv_tn5y92x0jqjqk10hb80000gn/T/ipykernel_37012/3863225719.py\u001b[0m in \u001b[0;36m<module>\u001b[0;34m\u001b[0m\n\u001b[1;32m      1\u001b[0m \u001b[0;31m#3\u001b[0m\u001b[0;34m\u001b[0m\u001b[0;34m\u001b[0m\u001b[0m\n\u001b[0;32m----> 2\u001b[0;31m \u001b[0mprint\u001b[0m\u001b[0;34m(\u001b[0m\u001b[0;34m'array1: {0}차원, array2: {1}차원, array3: {:2}차원'\u001b[0m\u001b[0;34m.\u001b[0m\u001b[0mformat\u001b[0m\u001b[0;34m(\u001b[0m\u001b[0marray1\u001b[0m\u001b[0;34m.\u001b[0m\u001b[0mndim\u001b[0m\u001b[0;34m,\u001b[0m\u001b[0marray2\u001b[0m\u001b[0;34m.\u001b[0m\u001b[0mndim\u001b[0m\u001b[0;34m,\u001b[0m\u001b[0marray3\u001b[0m\u001b[0;34m.\u001b[0m\u001b[0mndim\u001b[0m\u001b[0;34m)\u001b[0m\u001b[0;34m)\u001b[0m\u001b[0;34m\u001b[0m\u001b[0;34m\u001b[0m\u001b[0m\n\u001b[0m",
      "\u001b[0;31mValueError\u001b[0m: cannot switch from manual field specification to automatic field numbering"
     ]
    }
   ],
   "source": [
    "#3\n",
    "print('array1: {0}차원, array2: {1}차원, array3: {:2}차원'.format(array1.ndim,array2.ndim,array3.ndim))"
   ]
  },
  {
   "cell_type": "code",
   "execution_count": 13,
   "id": "982d649a",
   "metadata": {},
   "outputs": [
    {
     "name": "stdout",
     "output_type": "stream",
     "text": [
      "1과 2를 더하면 3\n",
      "2와 1를 더하면 3\n",
      "1과 2를 더하면 3\n"
     ]
    }
   ],
   "source": [
    "# 1번과 2번처럼 모든 {} 안에 :를 넣거나, 모든 {} 안에 :를 빼면 에러가 발생하지 않는데, 둘을 섞은 3번의 경우 에러가 났다.\n",
    "# format을 사용하여 변수의 값을 문자열 내에 formating할때는 {} 안에 index를 지정해줄 수도 있고, 지정해주지 않으면 0,1,2... 순서대로 들어간다\n",
    "a, b, c = 1, 2, 3\n",
    "print('{0}과 {1}를 더하면 {2}'.format(a,b,c))\n",
    "print('{1}와 {0}를 더하면 {2}'.format(a,b,c))\n",
    "print('{}과 {}를 더하면 {}'.format(a,b,c))"
   ]
  },
  {
   "cell_type": "code",
   "execution_count": 12,
   "id": "6c6ddc55",
   "metadata": {},
   "outputs": [
    {
     "name": "stdout",
     "output_type": "stream",
     "text": [
      " 1과       2를 더하면              3\n",
      " 1과       2를 더하면              3\n"
     ]
    }
   ],
   "source": [
    "# 그리고 (생략될 수도 있고 지정해줄 수도 있는) index 뒤에 :를 붙여 ,문자열의 크기나, 소수점 자리 설정 등을 할 수 있는데, \n",
    "# 그냥 int를 써주면 문자열의 크기를 지정할 수 있다(남는 공간은 공백으로 채워진다). 따라서..\n",
    "print('{0:2}과 {1:7}를 더하면 {2:14}'.format(a,b,c))\n",
    "print('{:2}과 {:7}를 더하면 {:14}'.format(a,b,c))"
   ]
  },
  {
   "cell_type": "code",
   "execution_count": null,
   "id": "1d659cca",
   "metadata": {},
   "outputs": [],
   "source": [
    "#결론적으로 책 쓰신 분이 index를 지정해주려는 것을 공백 지정을 해준 셈이 되어버렸는데, index를 생략할 수 있다는 점 때문에 에러가 나지 않고 넘어가게 된 것이다."
   ]
  }
 ],
 "metadata": {
  "kernelspec": {
   "display_name": "Python 3 (ipykernel)",
   "language": "python",
   "name": "python3"
  },
  "language_info": {
   "codemirror_mode": {
    "name": "ipython",
    "version": 3
   },
   "file_extension": ".py",
   "mimetype": "text/x-python",
   "name": "python",
   "nbconvert_exporter": "python",
   "pygments_lexer": "ipython3",
   "version": "3.9.7"
  }
 },
 "nbformat": 4,
 "nbformat_minor": 5
}
